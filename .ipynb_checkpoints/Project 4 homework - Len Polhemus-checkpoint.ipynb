{
 "cells": [
  {
   "cell_type": "markdown",
   "metadata": {},
   "source": [
    "# Project 4\n",
    "\n",
    "In this project, you will summarize and present your analysis from Projects 1-3."
   ]
  },
  {
   "cell_type": "markdown",
   "metadata": {},
   "source": [
    "### Intro: Write a problem Statement/ Specific Aim for this project"
   ]
  },
  {
   "cell_type": "markdown",
   "metadata": {},
   "source": [
    "Using admissions data provided by UCLA, determine how likely previous applicants are to get admitted into graduate school using student scoring info include GRE (entrance exam) and GPA (student performance) as well as the Prestige (rank) of an applicant's undergraduate alma mater."
   ]
  },
  {
   "cell_type": "markdown",
   "metadata": {},
   "source": [
    "### Dataset:  Write up a description of your data and any cleaning that was completed"
   ]
  },
  {
   "cell_type": "markdown",
   "metadata": {},
   "source": [
    "There were 400 records of application for grad school in our dataset. There were 4 observations with missing data that were dropped from this analysis. The final analytic sample was 397. No time range was provided for this data set nor any unique identifers for schools -> prestige mapping. \n",
    "\n",
    "There were two categories of admittance, 1 = admitted into grad school and 0 = not accepted. No further cleaning was required on this variable.\n",
    "\n",
    "Similarily, there were 4 presitge levels, 1.0 to 4.0, with 1 being the highest and 4 being the lowest. GRE ranges from 220 to 800 and requires no additional cleaning. GPA ranges from 2.26 to 4.0 and requires no additional cleaning.\n",
    "\n"
   ]
  },
  {
   "cell_type": "markdown",
   "metadata": {
    "collapsed": true
   },
   "source": [
    "### Demo: Provide a table that explains the data by admission status"
   ]
  },
  {
   "cell_type": "markdown",
   "metadata": {},
   "source": [
    "Mean (STD) or counts by admission status for each variable \n",
    "\n",
    "| Not Admitted | Admitted\n",
    "---| ---|---\n",
    "GPA | mean (3.34)  | mean (3.48)\n",
    "GRE |mean (573.57) | mean (618.57)\n",
    "Prestige 1 | 28 (7%) | 33 (8%)\n",
    "Prestige 2 | 95 (24%) | 53 (13%)\n",
    "Prestige 3 | 93 (23%) | 28 (7%)\n",
    "Prestige 4 | 55 (14%) | 12 (3%)"
   ]
  },
  {
   "cell_type": "markdown",
   "metadata": {},
   "source": [
    "### Methods: Write up the methods used in your analysis"
   ]
  },
  {
   "cell_type": "markdown",
   "metadata": {},
   "source": [
    "Answer: We calculated the odds ratios of being accepted and being rejected based on prestige, completed a logistic regression using Statsmodels and also recreated the dataset with every logical combination of input values using cartesian allowing us to see how the predicted probability of admission increases/decreases across different variables."
   ]
  },
  {
   "cell_type": "markdown",
   "metadata": {},
   "source": [
    "### Results: Write up your results"
   ]
  },
  {
   "cell_type": "markdown",
   "metadata": {},
   "source": [
    "Answer: Undergrad students from prestige 1 schools, had a 4.0 GPA and 800 GRE score had ~75% chance of getting acecpted, 2X as likely as prestige 2 schools and 4X as good as presitge 3 and 4 schools. "
   ]
  },
  {
   "cell_type": "markdown",
   "metadata": {},
   "source": [
    "### Visuals: Provide a table or visualization of these results"
   ]
  },
  {
   "cell_type": "markdown",
   "metadata": {},
   "source": [
    "<img src='GRE Prob.png' height= 50% width= 50%>"
   ]
  },
  {
   "cell_type": "markdown",
   "metadata": {},
   "source": [
    "<img src='GPA Prob.png' height= 50% width= 50%>"
   ]
  },
  {
   "cell_type": "markdown",
   "metadata": {
    "collapsed": true
   },
   "source": [
    "<img src='PairPlot GRE GPA.png' height= 50% width= 50%>\n",
    "\n",
    "Pair Plot shows that cartesian worked with all combinations of GRE and GPA (first column, second row) and that the range of probabilities of acceptance are trending upwards as either increases (third row, first to column plots)"
   ]
  },
  {
   "cell_type": "markdown",
   "metadata": {},
   "source": [
    "### Discussion: Write up your discussion and future steps"
   ]
  },
  {
   "cell_type": "markdown",
   "metadata": {},
   "source": [
    "Answer: Our findings indicate that undergrads have a higher probability of getting accepted to grad school if they are from a prestigous undergrad school and have a high GPA/GRE. Next steps could include exploring the difference of schools acceptance rates by school, this could be accomplished if we were provided a school id based on where a student was applying."
   ]
  },
  {
   "cell_type": "code",
   "execution_count": null,
   "metadata": {
    "collapsed": true
   },
   "outputs": [],
   "source": []
  }
 ],
 "metadata": {
  "kernelspec": {
   "display_name": "Python 2",
   "language": "python",
   "name": "python2"
  },
  "language_info": {
   "codemirror_mode": {
    "name": "ipython",
    "version": 2
   },
   "file_extension": ".py",
   "mimetype": "text/x-python",
   "name": "python",
   "nbconvert_exporter": "python",
   "pygments_lexer": "ipython2",
   "version": "2.7.13"
  }
 },
 "nbformat": 4,
 "nbformat_minor": 1
}
